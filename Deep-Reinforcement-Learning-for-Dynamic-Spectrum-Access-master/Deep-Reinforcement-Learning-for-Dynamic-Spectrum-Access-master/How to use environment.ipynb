{
 "cells": [
  {
   "cell_type": "code",
   "execution_count": 2,
   "metadata": {},
   "outputs": [],
   "source": [
    "# import the env_network from multi_user_network_env.py\n",
    "from multi_user_network_env import env_network\n",
    "import numpy as np\n",
    "import matplotlib.pyplot as plt"
   ]
  },
  {
   "cell_type": "code",
   "execution_count": 3,
   "metadata": {},
   "outputs": [],
   "source": [
    "NUM_USERS = 3\n",
    "NUM_CHANNELS = 2\n",
    "ATTEMPT_PROB = 1"
   ]
  },
  {
   "cell_type": "code",
   "execution_count": 4,
   "metadata": {},
   "outputs": [],
   "source": [
    "#initializing the environment\n",
    "env = env_network(NUM_USERS,NUM_CHANNELS,ATTEMPT_PROB)\n"
   ]
  },
  {
   "cell_type": "code",
   "execution_count": 43,
   "metadata": {},
   "outputs": [
    {
     "name": "stdout",
     "output_type": "stream",
     "text": [
      "[2 0 1]\n"
     ]
    }
   ],
   "source": [
    "# To sample random  actions from action_space\n",
    "action = env.sample()\n",
    "print action"
   ]
  },
  {
   "cell_type": "markdown",
   "metadata": {},
   "source": [
    "# How to take actions\n",
    "Here action = ``` [1 2 0] ``` means 1st channel will be accessed by user 1, 2nd channel will be accessed by user 2 and user 3 will not take any action. \n",
    "Since we have just sampled the actions uniformly for each user, now we have to take these actions .For that\n",
    "use ```env.step()``` function and pass these actions"
   ]
  },
  {
   "cell_type": "code",
   "execution_count": 45,
   "metadata": {},
   "outputs": [
    {
     "name": "stdout",
     "output_type": "stream",
     "text": [
      "[(1, 1.0), (0, 0.0), (1, 1.0), array([0, 0], dtype=int32)]\n"
     ]
    }
   ],
   "source": [
    "obs = env.step(action)\n",
    "print obs"
   ]
  },
  {
   "cell_type": "markdown",
   "metadata": {},
   "source": [
    "## Observation Format\n",
    "\n",
    "For ```action = [1,2,0]``` obs is ```[(1, 1.0), (1, 1.0), (0, 0.0), array([0, 0], dtype=int32)]```\n",
    "\n",
    "The format  of obs is ```[(ACK1,REWARD1),(ACK2,REWARD2),(ACK3,REWARD3), ...,(ACKn,REWARDn) , (CAP_CHANNEL1,CAP_CHANNEL2,...,CAP_CHANNEL_k)]```.\n",
    "\n",
    "When we pass actions to the evironment , it takes these actions and returns the immediate reward as well as acknowledgement of the channel.Finally it also returns the residual capacity of the channel(remaining capacity).\n",
    "\n",
    "\n",
    "Here 1,2,3 represents user 1, user 2 and user 3 respectively for the first n tuples where n is number of users and k is number of channels.\n",
    "Last element is an array  ```[CAP_CHANNEL1, CAP_CHANNEL2, CAP_CHANNEL_k]``` denotes the remaining channel capacity or the fact that channel is available or not.\n",
    "\n",
    "Since both channels were available at the beginning , user 1 and 2 allocates channel 1 and 2 respectively and user 3 remains idle. This can be concluded by the resulting output where there is (ACK, REWARD) pair as ```(1 , 1.0)``` for user 1 and 2 and is ```(0 , 0.0)``` for user 3. \n",
    "Both the channels are allocated by user 1 and 2 therefore last element is ```array([0,0])```.\n",
    "\n"
   ]
  },
  {
   "cell_type": "code",
   "execution_count": 11,
   "metadata": {},
   "outputs": [
    {
     "name": "stdout",
     "output_type": "stream",
     "text": [
      "[(0, 0.0), (0, 0.0), (1, 1.0), array([1, 0], dtype=int32)]\n"
     ]
    }
   ],
   "source": [
    "# user 1 and 2 takes action 1 and user 3 takes action 2 \n",
    "action = np.array([1,1,2])\n",
    "obs = env.step(action)\n",
    "print obs\n"
   ]
  },
  {
   "cell_type": "markdown",
   "metadata": {},
   "source": [
    "We can also take our own actions.But first make sure to convert it to numpy array"
   ]
  },
  {
   "cell_type": "code",
   "execution_count": 35,
   "metadata": {},
   "outputs": [
    {
     "name": "stdout",
     "output_type": "stream",
     "text": [
      "[1.0, 1.0, 0.0]\n"
     ]
    }
   ],
   "source": [
    "# to take reward from obs\n",
    "rewards = [i[1] for i in obs[:NUM_USERS]]\n",
    "print rewards"
   ]
  },
  {
   "cell_type": "code",
   "execution_count": 38,
   "metadata": {},
   "outputs": [
    {
     "name": "stdout",
     "output_type": "stream",
     "text": [
      "[1 1 1]\n",
      "[(0, 0.0), (0, 0.0), (0, 0.0), array([1, 1], dtype=int32)]\n",
      "0.0\n",
      "***************\n",
      "[1 1 0]\n",
      "[(0, 0.0), (0, 0.0), (0, 0.0), array([1, 1], dtype=int32)]\n",
      "0.0\n",
      "***************\n",
      "[2 2 0]\n",
      "[(0, 0.0), (0, 0.0), (0, 0.0), array([1, 1], dtype=int32)]\n",
      "0.0\n",
      "***************\n",
      "[1 1 2]\n",
      "[(0, 0.0), (0, 0.0), (1, 1.0), array([1, 0], dtype=int32)]\n",
      "1.0\n",
      "***************\n",
      "[2 2 0]\n",
      "[(0, 0.0), (0, 0.0), (0, 0.0), array([1, 1], dtype=int32)]\n",
      "0.0\n",
      "***************\n"
     ]
    }
   ],
   "source": [
    "TIME_SLOTS = 5\n",
    "total_rewards = []\n",
    "for i in range(TIME_SLOTS):\n",
    "    action = env.sample()\n",
    "    print action\n",
    "    obs = env.step(action)\n",
    "    print obs\n",
    "    rewards = [i[1] for i in obs[:NUM_USERS]]\n",
    "    reward_sum = np.sum(rewards)\n",
    "    print reward_sum\n",
    "    total_rewards.append(reward_sum)\n",
    "    print \"***************\""
   ]
  },
  {
   "cell_type": "code",
   "execution_count": 50,
   "metadata": {},
   "outputs": [],
   "source": [
    "#Lets take the action for 50 more time slots\n",
    "TIME_SLOTS = 50\n",
    "total_rewards = []\n",
    "for i in range(TIME_SLOTS):\n",
    "    action = env.sample()\n",
    "    #print action\n",
    "    obs = env.step(action)\n",
    "    #print obs\n",
    "    rewards = [i[1] for i in obs[:NUM_USERS]]\n",
    "    reward_sum = np.sum(rewards)\n",
    "    #print reward_sum\n",
    "    total_rewards.append(reward_sum)\n",
    "    #print \"***************\""
   ]
  },
  {
   "cell_type": "code",
   "execution_count": 51,
   "metadata": {},
   "outputs": [
    {
     "data": {
      "image/png": "[encoded data removed]",
      "text/plain": [
       "<matplotlib.figure.Figure at 0x7f4942de6c50>"
      ]
     },
     "metadata": {},
     "output_type": "display_data"
    }
   ],
   "source": [
    "plt.plot(np.arange(TIME_SLOTS), total_rewards,'r+')\n",
    "plt.show()"
   ]
  },
  {
   "cell_type": "markdown",
   "metadata": {},
   "source": [
    "The graph shows total reward generated per time_slot for 50 slots.\n",
    "\n",
    "Here reward ```0.0``` means no user was able to send the packet and both the channels were free while reward ```2.0``` means both the channels were being used without collision and any one user was not sending the packets.  "
   ]
  },
  {
   "cell_type": "markdown",
   "metadata": {},
   "source": []
  }
 ],
 "metadata": {
  "kernelspec": {
   "display_name": "Python 2",
   "language": "python",
   "name": "python2"
  },
  "language_info": {
   "codemirror_mode": {
    "name": "ipython",
    "version": 2
   },
   "file_extension": ".py",
   "mimetype": "text/x-python",
   "name": "python",
   "nbconvert_exporter": "python",
   "pygments_lexer": "ipython2",
   "version": "2.7.13"
  }
 },
 "nbformat": 4,
 "nbformat_minor": 2
}
